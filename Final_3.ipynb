{
 "cells": [
  {
   "cell_type": "markdown",
   "metadata": {},
   "source": [
    "# Data Visualization Final Project Part 2: The World Happiness Report Dashboard\n",
    "\n",
    "**Group BQ-Alots: Ankita Pant, Archana Kulkarni, Sam Walkow, and Zoë Kaler**"
   ]
  },
  {
   "cell_type": "markdown",
   "metadata": {},
   "source": [
    "**About Our Data**\n",
    "- Welcome to World Happiness Report Dashboard! We have data from 2015, 2016, and 2017, each with around 155 rows, each row representing a country. The columns have factors such as happiness rank, happiness score, GDP per capita, family, life expectancy, government corruption. These seven are consistent through each data set and they total the country’s happiness score: GDP per capita, family, life expectancy, generosity, government corruption and dystopia residual. The happiness rank corresponds to the score. Data source: https://www.kaggle.com/unsdsn/world-happiness\n",
    "            "
   ]
  },
  {
   "cell_type": "code",
   "execution_count": 1,
   "metadata": {},
   "outputs": [],
   "source": [
    "%matplotlib inline\n",
    "%matplotlib notebook\n",
    "import pandas as pd\n",
    "import numpy as np\n",
    "import matplotlib.pyplot as plt\n",
    "import ipywidgets\n",
    "import bqplot\n",
    "from bqplot.market_map import MarketMap"
   ]
  },
  {
   "cell_type": "code",
   "execution_count": 2,
   "metadata": {},
   "outputs": [],
   "source": [
    "df_2015 = pd.read_csv('2015.csv')\n",
    "df_2016 = pd.read_csv('2016.csv')\n",
    "df_2017 = pd.read_csv('2017.csv')"
   ]
  },
  {
   "cell_type": "code",
   "execution_count": 3,
   "metadata": {},
   "outputs": [],
   "source": [
    "country_names = df_2017['Country']\n",
    "country_rank = df_2017['Happiness.Rank']\n",
    "economy = df_2017[\"Economy..GDP.per.Capita.\"]\n",
    "family = df_2017['Family']\n",
    "health = df_2017[\"Health..Life.Expectancy.\"]\n",
    "freedom = df_2017[\"Freedom\"]\n",
    "generosity = df_2017[\"Generosity\"]\n",
    "trust = df_2017[\"Trust..Government.Corruption.\"]\n",
    "dystopia = df_2017['Dystopia.Residual']"
   ]
  },
  {
   "cell_type": "markdown",
   "metadata": {},
   "source": [
    "# Part 1: 2015, 2016, 2017 Happiness Score Counts \n",
    "**This visualization gives an overview of the distribution of the happiness score overtime. This is the only visualization that incorporates all three years of data; 2017 will be used for the rest of the visualizations. We choose 2017 because variables were not consistent throughout all three years and 2017 tells the most recent story.**"
   ]
  },
  {
   "cell_type": "code",
   "execution_count": 4,
   "metadata": {},
   "outputs": [
    {
     "data": {
      "application/vnd.jupyter.widget-view+json": {
       "model_id": "b661befb3d0844db8cbbbdbc6d5a3e1c",
       "version_major": 2,
       "version_minor": 0
      },
      "text/plain": [
       "VBox(children=(Label(value='Number of Bins'), IntSlider(value=8, max=50, min=8)))"
      ]
     },
     "metadata": {},
     "output_type": "display_data"
    },
    {
     "data": {
      "application/vnd.jupyter.widget-view+json": {
       "model_id": "794f6e3fa4d74e03a5b97f661af03ecf",
       "version_major": 2,
       "version_minor": 0
      },
      "text/plain": [
       "HBox(children=(Figure(axes=[Axis(label='Happiness Score', scale=LinearScale(), tick_format='0.1f'), Axis(label…"
      ]
     },
     "metadata": {},
     "output_type": "display_data"
    }
   ],
   "source": [
    "# Scales and Axis\n",
    "\n",
    "x_sc = bqplot.LinearScale()\n",
    "y_sc = bqplot.LinearScale()\n",
    "col = bqplot.ColorScale(scheme='plasma')\n",
    "ax_c = bqplot.ColorAxis(scale=col)\n",
    "ax_x = bqplot.Axis(scale=x_sc, tick_format='0.1f', label = 'Happiness Score')\n",
    "ax_y = bqplot.Axis(scale=y_sc, orientation='vertical', label = 'Count')\n",
    "\n",
    "# 2015 Hist\n",
    "\n",
    "z_data = df_2015[\"Happiness Score\"]\n",
    "zhist = bqplot.Hist(sample=z_data, scales={'sample': x_sc, 'count': y_sc}, colors = ['#e8705b'])\n",
    "zfig = bqplot.Figure(marks=[zhist], axes=[ax_x, ax_y], padding_y=0, \n",
    "                    title = \"2015 Happiness Score Count\")\n",
    "\n",
    "# 2016 Hist\n",
    "\n",
    "y_data = df_2016[\"Happiness Score\"]\n",
    "yhist = bqplot.Hist(sample=y_data, scales={'sample': x_sc, 'count': y_sc}, colors = ['#e8705b'])\n",
    "yfig = bqplot.Figure(marks=[yhist], axes=[ax_x, ax_y], padding_y=0, \n",
    "                    title = \"2016 Happiness Score Count\", color = col)\n",
    "\n",
    "\n",
    "# 2017 Hist\n",
    "x_data = df_2017[\"Happiness.Score\"]\n",
    "hist = bqplot.Hist(sample=x_data, scales={'sample': x_sc, 'count': y_sc}, colors = ['#e8705b'])\n",
    "fig = bqplot.Figure(marks=[hist], axes=[ax_x, ax_y], padding_y=0, \n",
    "                    title = \"2017 Happiness Score Count\")\n",
    "\n",
    "# set up slider\n",
    "\n",
    "islider = ipywidgets.IntSlider(min= 8, max=50, step = 1, title = 'Bin Number')\n",
    "ipywidgets.link((islider, \"value\"),(hist, \"bins\"))\n",
    "ipywidgets.link((islider, \"value\"),(yhist, \"bins\"))\n",
    "ipywidgets.link((islider, \"value\"),(zhist, \"bins\"))\n",
    "\n",
    "display(ipywidgets.VBox([ipywidgets.Label(value=\"Number of Bins\"),islider]))\n",
    "\n",
    "display(ipywidgets.HBox([zfig, yfig, fig]))"
   ]
  },
  {
   "cell_type": "markdown",
   "metadata": {},
   "source": [
    "# Part 2: Countries According to 2017 Happiness Score\n",
    "**This visualization shows at a glance where countries stand in happiness rank. You can also see each country’s happiness score breakdown. We choose to put this information in the tooltip so you can dig a little deeper into each country and begin to understand how their score is made up and what that might mean for the lives in that country. We choose to start with the happiest because that places countries in consecutive order by score.** "
   ]
  },
  {
   "cell_type": "code",
   "execution_count": 5,
   "metadata": {
    "scrolled": true
   },
   "outputs": [
    {
     "data": {
      "application/vnd.jupyter.widget-view+json": {
       "model_id": "c69fe898282b4388a46818e27477d5c1",
       "version_major": 2,
       "version_minor": 0
      },
      "text/plain": [
       "MarketMap(axes=[ColorAxis(label='Unhappy to Happy', scale=ColorScale(reverse=True, scheme='plasma'))], color=a…"
      ]
     },
     "metadata": {},
     "output_type": "display_data"
    }
   ],
   "source": [
    "sc_x = bqplot.LinearScale()\n",
    "sc_y = bqplot.LinearScale()\n",
    "\n",
    "ax_x = bqplot.Axis(scale=sc_x, grid_lines='dashed')\n",
    "ax_y = bqplot.Axis(scale=sc_y, orientation='vertical', grid_lines='dashed')\n",
    "\n",
    "\n",
    "col = bqplot.ColorScale(scheme='plasma', reverse = True)\n",
    "ax_c = bqplot.ColorAxis(scale=col, label='Unhappy to Happy', visible=True, reverse = True)\n",
    "market_map = MarketMap(names= country_names,\n",
    "                       ref_data= df_2017, \n",
    "                       tooltip_fields= (['Country', 'Economy..GDP.per.Capita.', 'Family',\n",
    "                                       'Health..Life.Expectancy.', 'Freedom', 'Generosity', \n",
    "                                       'Trust..Government.Corruption.','Happiness.Score', 'Happiness.Rank']),\n",
    "                       color= country_rank,\n",
    "                       layout={'min_width': '1000px', 'min_height': '800px'}, scales={'color': col},\n",
    "                       axes = [ax_c],title = 'Countries According to 2017 Happiness Score')\n",
    "market_map"
   ]
  },
  {
   "cell_type": "markdown",
   "metadata": {},
   "source": [
    "# Part 3: Happiness Score as a Function of Happiness Factors\n",
    "**This visualization show the contribution of each factor to happiness score. It is essentially the tooltips from the marketmap visualized by factor. We chose the dropdown because wanted our audience to be able to dynamically experience each correlation of factor and happiness score separately.**"
   ]
  },
  {
   "cell_type": "code",
   "execution_count": 6,
   "metadata": {},
   "outputs": [
    {
     "data": {
      "application/vnd.jupyter.widget-view+json": {
       "model_id": "8f7e0acb6b274110829753182c0c2ebb",
       "version_major": 2,
       "version_minor": 0
      },
      "text/plain": [
       "VBox(children=(Dropdown(description='Factors', options=('Dystopia', 'Economy', 'Family', 'Freedom', 'Generosit…"
      ]
     },
     "metadata": {},
     "output_type": "display_data"
    }
   ],
   "source": [
    "happy_score = df_2017['Happiness.Score']\n",
    "\n",
    "sc_x = bqplot.LinearScale()\n",
    "sc_y = bqplot.LinearScale()\n",
    "\n",
    "line = bqplot.Lines(x = happy_score, y = trust,\n",
    "            scales = {'x': sc_x, 'y': sc_y}, colors = [\"#f9a346\"])\n",
    "\n",
    "ax_x = bqplot.Axis(scale = sc_x, label = 'Happiness Score')\n",
    "ax_y = bqplot.Axis(scale=sc_y, orientation='vertical', label='Factor Contribution')    \n",
    "\n",
    "select_mul = ipywidgets.Dropdown(\n",
    "   options = ['Dystopia', 'Economy', 'Family', 'Freedom', 'Generosity', 'Health', 'Trust'],\n",
    "    value = 'Dystopia',\n",
    "   description='Factors',\n",
    "   disabled=False)\n",
    "        \n",
    "\n",
    "def factor_select(change):\n",
    "    if change['new'] == 'Dystopia':\n",
    "        line.y = df_2017[\"Dystopia.Residual\"]\n",
    "    if change['new'] == 'Economy':\n",
    "        line.y = df_2017[\"Economy..GDP.per.Capita.\"]\n",
    "    if change['new'] == 'Family':\n",
    "        line.y = df_2017[\"Family\"]\n",
    "    if change['new'] == 'Freedom':\n",
    "        line.y = df_2017[\"Freedom\"]\n",
    "    if change['new'] == 'Generosity':\n",
    "        line.y = df_2017[\"Generosity\"]\n",
    "    if change['new'] == 'Health':\n",
    "        line.y = df_2017[\"Health..Life.Expectancy.\"]\n",
    "    if change['new'] == 'Trust':\n",
    "        line.y = df_2017[\"Trust..Government.Corruption.\"]  \n",
    "\n",
    "\n",
    "fig_trust = bqplot.Figure(marks=[line], axes=[ax_x, ax_y],\n",
    "                          title='Happiness Score as a Function of Happiness Factors')\n",
    "\n",
    "select_mul.observe(factor_select)\n",
    "\n",
    "display(ipywidgets.VBox([select_mul, fig_trust]))"
   ]
  },
  {
   "cell_type": "markdown",
   "metadata": {},
   "source": [
    "# Part 4: Factor Breakdown in the Five Most and Least Happy Countries\n",
    "**This visualization zooms in on the line plot’s story and shows the breakdown for the five top and five bottom countries by rank. We chose the top and bottom five and not all the countries to show the juxtaposition of what factors make up score for counties with opposite rank.**"
   ]
  },
  {
   "cell_type": "code",
   "execution_count": 7,
   "metadata": {},
   "outputs": [
    {
     "data": {
      "application/vnd.jupyter.widget-view+json": {
       "model_id": "830ccb3b01d54b3c99c7a5554789e991",
       "version_major": 2,
       "version_minor": 0
      },
      "text/plain": [
       "VBox(children=(Figure(axes=[Axis(label='Countries', scale=OrdinalScale()), Axis(label='Amount Factor Contribut…"
      ]
     },
     "metadata": {},
     "output_type": "display_data"
    }
   ],
   "source": [
    "most_common_rank = df_2017[\"Happiness.Rank\"].value_counts()[:5].index.values\n",
    "\n",
    "x_ord = bqplot.OrdinalScale()\n",
    "x_ord1 = bqplot.OrdinalScale()\n",
    "y_sc = bqplot.LinearScale()\n",
    "\n",
    "ax_x = bqplot.Axis(scale=x_ord1, label = \"Countries\", xlim = 5.0)\n",
    "ax_y = bqplot.Axis(scale=y_sc, orientation='vertical', tick_format='0.2f', \n",
    "                   label = \"Amount Factor Contributed to Happiness Score\", ylim = 1.5)\n",
    "\n",
    "ax_x1 = bqplot.Axis(scale=x_ord, label = \"Countries\")\n",
    "ax_y1 = bqplot.Axis(scale=y_sc, orientation='vertical', tick_format='0.2f', \n",
    "                   label = \"Factor Contribution\")\n",
    "\n",
    "margin = dict(top=80, bottom=50, left=50, right=50)\n",
    "margin1 = dict(top=50, bottom=50, left=50, right=50)\n",
    "\n",
    "def_tt = bqplot.Tooltip(fields=['x', 'y'], formats=['', '.2f'])\n",
    "\n",
    "bar = bqplot.Bars(x= df_2017[\"Country\"][:5], y=[economy, family, health, freedom, generosity, trust], \n",
    "           scales={'x': x_ord1, 'y': y_sc}, padding=0.2, type='grouped',\n",
    "           colors=([\"purple\", \"blue\", \"maroon\", \"red\", \"orange\", \"yellow\"]), \n",
    "                  labels=['Economy', 'Family', 'Health', 'Freedom', 'Generosity', 'Trust'],\n",
    "            stroke = 'white', display_legend=True,\n",
    "                interactions={'hover': 'tooltip'})\n",
    "\n",
    "bar.tooltip=def_tt\n",
    "\n",
    "fig1 = bqplot.Figure(marks=[bar], axes=[ax_x, ax_y], fig_margin = margin, \n",
    "                     title = 'Factor Breakdown for Happiness Score in Five Most Happy Countries')\n",
    "\n",
    "bar1 = bqplot.Bars(x= df_2017[\"Country\"][:149:-1], \n",
    "                  y=[economy[::-1], family[::-1], health[::-1], freedom[::-1], generosity[::-1], trust[::-1]], \n",
    "           scales={'x': x_ord, 'y': y_sc}, padding=0.2,type='grouped',\n",
    "           colors=([\"purple\", \"blue\", \"maroon\", \"red\", \"orange\", \"yellow\"]), \n",
    "                   labels=['Economy', 'Family', 'Health', 'Freedom', 'Generosity', 'Trust'],\n",
    "                   display_legend=True, stroke = 'white', interactions={'hover': 'tooltip'})\n",
    "\n",
    "bar1.tooltip=def_tt\n",
    "\n",
    "fig2 = bqplot.Figure(marks=[bar1], axes=[ax_x1, ax_y1], fig_margin = margin1, \n",
    "                     title = 'Factor Breakdown for Happiness Score in Five Least Happy Countries')\n",
    "\n",
    "display(ipywidgets.VBox([fig1, fig2]))"
   ]
  },
  {
   "cell_type": "markdown",
   "metadata": {},
   "source": [
    "## Challenges\n",
    "- We had three main challenges while creating this visualization. The first was figuring out how to visualize the breakdown of the happiness score. We were fascinated by the seven factors that make up the score and we wanted to dig into that. This is why our dashboard slowly narrows in on this aspect of the data.\n",
    "\n",
    "- The second main challenge was small details in bqplot. We had trouble moving and editing the legends, editing text, etc. These small details are what we wanted to make this dashboard look perfect, but we were unable to find ways to implement these finishing touches. \n",
    "\n",
    "- The last, and most important, challenge was maintaining a sense of empathy for the people in the countries, specifically the non-happy countries. We had to be careful not to reduce someone’s pain into a rank or score. We believe that is dashboard can be a starting place for figuring out why these people may not be as happy as possible and how to make them happier. \n"
   ]
  },
  {
   "cell_type": "code",
   "execution_count": null,
   "metadata": {},
   "outputs": [],
   "source": []
  }
 ],
 "metadata": {
  "kernelspec": {
   "display_name": "Python 3",
   "language": "python",
   "name": "python3"
  },
  "language_info": {
   "codemirror_mode": {
    "name": "ipython",
    "version": 3
   },
   "file_extension": ".py",
   "mimetype": "text/x-python",
   "name": "python",
   "nbconvert_exporter": "python",
   "pygments_lexer": "ipython3",
   "version": "3.7.1"
  }
 },
 "nbformat": 4,
 "nbformat_minor": 2
}
